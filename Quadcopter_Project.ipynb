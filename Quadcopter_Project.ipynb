{
 "cells": [
  {
   "cell_type": "markdown",
   "metadata": {},
   "source": [
    "# Project: Train a Quadcopter How to Fly\n",
    "\n",
    "Design an agent to fly a quadcopter, and then train it using a reinforcement learning algorithm of your choice! \n",
    "\n",
    "Try to apply the techniques you have learnt, but also feel free to come up with innovative ideas and test them."
   ]
  },
  {
   "cell_type": "markdown",
   "metadata": {},
   "source": [
    "## Instructions\n",
    "\n",
    "Take a look at the files in the directory to better understand the structure of the project. \n",
    "\n",
    "- `task.py`: Define your task (environment) in this file.\n",
    "- `agents/`: Folder containing reinforcement learning agents.\n",
    "    - `policy_search.py`: A sample agent has been provided here.\n",
    "    - `agent.py`: Develop your agent here.\n",
    "- `physics_sim.py`: This file contains the simulator for the quadcopter.  **DO NOT MODIFY THIS FILE**.\n",
    "\n",
    "For this project, you will define your own task in `task.py`.  Although we have provided a example task to get you started, you are encouraged to change it.  Later in this notebook, you will learn more about how to amend this file.\n",
    "\n",
    "You will also design a reinforcement learning agent in `agent.py` to complete your chosen task.  \n",
    "\n",
    "You are welcome to create any additional files to help you to organize your code.  For instance, you may find it useful to define a `model.py` file defining any needed neural network architectures.\n",
    "\n",
    "## Controlling the Quadcopter\n",
    "\n",
    "We provide a sample agent in the code cell below to show you how to use the sim to control the quadcopter.  This agent is even simpler than the sample agent that you'll examine (in `agents/policy_search.py`) later in this notebook!\n",
    "\n",
    "The agent controls the quadcopter by setting the revolutions per second on each of its four rotors.  The provided agent in the `Basic_Agent` class below always selects a random action for each of the four rotors.  These four speeds are returned by the `act` method as a list of four floating-point numbers.  \n",
    "\n",
    "For this project, the agent that you will implement in `agents/agent.py` will have a far more intelligent method for selecting actions!"
   ]
  },
  {
   "cell_type": "code",
   "execution_count": 1,
   "metadata": {},
   "outputs": [],
   "source": [
    "import random\n",
    "\n",
    "class Basic_Agent():\n",
    "    def __init__(self, task):\n",
    "        self.task = task\n",
    "    \n",
    "    def act(self):\n",
    "        new_thrust = random.gauss(450., 25.)\n",
    "        return [new_thrust + random.gauss(0., 1.) for x in range(4)]"
   ]
  },
  {
   "cell_type": "markdown",
   "metadata": {},
   "source": [
    "Run the code cell below to have the agent select actions to control the quadcopter.  \n",
    "\n",
    "Feel free to change the provided values of `runtime`, `init_pose`, `init_velocities`, and `init_angle_velocities` below to change the starting conditions of the quadcopter.\n",
    "\n",
    "The `labels` list below annotates statistics that are saved while running the simulation.  All of this information is saved in a text file `data.txt` and stored in the dictionary `results`.  "
   ]
  },
  {
   "cell_type": "code",
   "execution_count": 2,
   "metadata": {},
   "outputs": [],
   "source": [
    "%load_ext autoreload\n",
    "%autoreload 2\n",
    "\n",
    "import csv\n",
    "import numpy as np\n",
    "from task import Task\n",
    "\n",
    "# Modify the values below to give the quadcopter a different starting position.\n",
    "runtime = 5.                                     # time limit of the episode\n",
    "init_pose = np.array([0., 0., 0., 0., 0., 0.])  # initial pose\n",
    "init_velocities = np.array([0., 0., 0.])         # initial velocities\n",
    "init_angle_velocities = np.array([0., 0., 0.])   # initial angle velocities\n",
    "file_output = 'data.txt'                         # file name for saved results\n",
    "\n",
    "# Setup\n",
    "task = Task(init_pose, init_velocities, init_angle_velocities, runtime)\n",
    "agent = Basic_Agent(task)\n",
    "done = False\n",
    "labels = ['time', 'x', 'y', 'z', 'phi', 'theta', 'psi', 'x_velocity',\n",
    "          'y_velocity', 'z_velocity', 'phi_velocity', 'theta_velocity',\n",
    "          'psi_velocity', 'rotor_speed1', 'rotor_speed2', 'rotor_speed3', 'rotor_speed4']\n",
    "results = {x : [] for x in labels}\n",
    "\n",
    "# Run the simulation, and save the results.\n",
    "with open(file_output, 'w') as csvfile:\n",
    "    writer = csv.writer(csvfile)\n",
    "    writer.writerow(labels)\n",
    "    while True:\n",
    "        rotor_speeds = agent.act()\n",
    "        _, _, done = task.step(rotor_speeds)\n",
    "        to_write = [task.sim.time] + list(task.sim.pose) + list(task.sim.v) + list(task.sim.angular_v) + list(rotor_speeds)\n",
    "        for ii in range(len(labels)):\n",
    "            results[labels[ii]].append(to_write[ii])\n",
    "        writer.writerow(to_write)\n",
    "        if done:\n",
    "            break"
   ]
  },
  {
   "cell_type": "markdown",
   "metadata": {},
   "source": [
    "Run the code cell below to visualize how the position of the quadcopter evolved during the simulation."
   ]
  },
  {
   "cell_type": "code",
   "execution_count": 3,
   "metadata": {},
   "outputs": [
    {
     "data": {
      "image/png": "[encoded data removed]",
      "text/plain": [
       "<matplotlib.figure.Figure at 0x7f0ac45adb38>"
      ]
     },
     "metadata": {
      "needs_background": "light"
     },
     "output_type": "display_data"
    }
   ],
   "source": [
    "import matplotlib.pyplot as plt\n",
    "%matplotlib inline\n",
    "\n",
    "plt.plot(results['time'], results['x'], label='x')\n",
    "plt.plot(results['time'], results['y'], label='y')\n",
    "plt.plot(results['time'], results['z'], label='z')\n",
    "plt.legend()\n",
    "_ = plt.ylim()"
   ]
  },
  {
   "cell_type": "markdown",
   "metadata": {},
   "source": [
    "The next code cell visualizes the velocity of the quadcopter."
   ]
  },
  {
   "cell_type": "code",
   "execution_count": 4,
   "metadata": {},
   "outputs": [
    {
     "data": {
      "image/png": "[encoded data removed]",
      "text/plain": [
       "<matplotlib.figure.Figure at 0x7f0a9ce6d748>"
      ]
     },
     "metadata": {
      "needs_background": "light"
     },
     "output_type": "display_data"
    }
   ],
   "source": [
    "plt.plot(results['time'], results['x_velocity'], label='x_hat')\n",
    "plt.plot(results['time'], results['y_velocity'], label='y_hat')\n",
    "plt.plot(results['time'], results['z_velocity'], label='z_hat')\n",
    "plt.legend()\n",
    "_ = plt.ylim()"
   ]
  },
  {
   "cell_type": "markdown",
   "metadata": {},
   "source": [
    "Next, you can plot the Euler angles (the rotation of the quadcopter over the $x$-, $y$-, and $z$-axes),"
   ]
  },
  {
   "cell_type": "code",
   "execution_count": 5,
   "metadata": {},
   "outputs": [
    {
     "data": {
      "image/png": "[encoded data removed]",
      "text/plain": [
       "<matplotlib.figure.Figure at 0x7f0a9ce534a8>"
      ]
     },
     "metadata": {
      "needs_background": "light"
     },
     "output_type": "display_data"
    }
   ],
   "source": [
    "plt.plot(results['time'], results['phi'], label='phi')\n",
    "plt.plot(results['time'], results['theta'], label='theta')\n",
    "plt.plot(results['time'], results['psi'], label='psi')\n",
    "plt.legend()\n",
    "_ = plt.ylim()"
   ]
  },
  {
   "cell_type": "markdown",
   "metadata": {},
   "source": [
    "before plotting the velocities (in radians per second) corresponding to each of the Euler angles."
   ]
  },
  {
   "cell_type": "code",
   "execution_count": 6,
   "metadata": {},
   "outputs": [
    {
     "data": {
      "image/png": "[encoded data removed]",
      "text/plain": [
       "<matplotlib.figure.Figure at 0x7f0a9cd87240>"
      ]
     },
     "metadata": {
      "needs_background": "light"
     },
     "output_type": "display_data"
    }
   ],
   "source": [
    "plt.plot(results['time'], results['phi_velocity'], label='phi_velocity')\n",
    "plt.plot(results['time'], results['theta_velocity'], label='theta_velocity')\n",
    "plt.plot(results['time'], results['psi_velocity'], label='psi_velocity')\n",
    "plt.legend()\n",
    "_ = plt.ylim()"
   ]
  },
  {
   "cell_type": "markdown",
   "metadata": {},
   "source": [
    "Finally, you can use the code cell below to print the agent's choice of actions.  "
   ]
  },
  {
   "cell_type": "code",
   "execution_count": 7,
   "metadata": {
    "scrolled": true
   },
   "outputs": [
    {
     "data": {
      "image/png": "[encoded data removed]",
      "text/plain": [
       "<matplotlib.figure.Figure at 0x7f0a9ccb8048>"
      ]
     },
     "metadata": {
      "needs_background": "light"
     },
     "output_type": "display_data"
    }
   ],
   "source": [
    "plt.plot(results['time'], results['rotor_speed1'], label='Rotor 1 revolutions / second')\n",
    "plt.plot(results['time'], results['rotor_speed2'], label='Rotor 2 revolutions / second')\n",
    "plt.plot(results['time'], results['rotor_speed3'], label='Rotor 3 revolutions / second')\n",
    "plt.plot(results['time'], results['rotor_speed4'], label='Rotor 4 revolutions / second')\n",
    "plt.legend()\n",
    "_ = plt.ylim()"
   ]
  },
  {
   "cell_type": "markdown",
   "metadata": {},
   "source": [
    "When specifying a task, you will derive the environment state from the simulator.  Run the code cell below to print the values of the following variables at the end of the simulation:\n",
    "- `task.sim.pose` (the position of the quadcopter in ($x,y,z$) dimensions and the Euler angles),\n",
    "- `task.sim.v` (the velocity of the quadcopter in ($x,y,z$) dimensions), and\n",
    "- `task.sim.angular_v` (radians/second for each of the three Euler angles)."
   ]
  },
  {
   "cell_type": "code",
   "execution_count": 8,
   "metadata": {
    "scrolled": true
   },
   "outputs": [
    {
     "name": "stdout",
     "output_type": "stream",
     "text": [
      "[6.92783355e-08 4.69527357e-09 0.00000000e+00 7.78247355e-06\n",
      " 6.28293637e+00 0.00000000e+00]\n",
      "[ 1.08777511e-05  4.66540355e-07 -5.25241956e-02]\n",
      "[ 0.00038787 -0.01410417  0.        ]\n"
     ]
    }
   ],
   "source": [
    "# the pose, velocity, and angular velocity of the quadcopter at the end of the episode\n",
    "print(task.sim.pose)\n",
    "print(task.sim.v)\n",
    "print(task.sim.angular_v)"
   ]
  },
  {
   "cell_type": "markdown",
   "metadata": {},
   "source": [
    "In the sample task in `task.py`, we use the 6-dimensional pose of the quadcopter to construct the state of the environment at each timestep.  However, when amending the task for your purposes, you are welcome to expand the size of the state vector by including the velocity information.  You can use any combination of the pose, velocity, and angular velocity - feel free to tinker here, and construct the state to suit your task.\n",
    "\n",
    "## The Task\n",
    "\n",
    "A sample task has been provided for you in `task.py`.  Open this file in a new window now. \n",
    "\n",
    "The `__init__()` method is used to initialize several variables that are needed to specify the task.  \n",
    "- The simulator is initialized as an instance of the `PhysicsSim` class (from `physics_sim.py`).  \n",
    "- Inspired by the methodology in the original DDPG paper, we make use of action repeats.  For each timestep of the agent, we step the simulation `action_repeats` timesteps.  If you are not familiar with action repeats, please read the **Results** section in [the DDPG paper](https://arxiv.org/abs/1509.02971).\n",
    "- We set the number of elements in the state vector.  For the sample task, we only work with the 6-dimensional pose information.  To set the size of the state (`state_size`), we must take action repeats into account.  \n",
    "- The environment will always have a 4-dimensional action space, with one entry for each rotor (`action_size=4`). You can set the minimum (`action_low`) and maximum (`action_high`) values of each entry here.\n",
    "- The sample task in this provided file is for the agent to reach a target position.  We specify that target position as a variable.\n",
    "\n",
    "The `reset()` method resets the simulator.  The agent should call this method every time the episode ends.  You can see an example of this in the code cell below.\n",
    "\n",
    "The `step()` method is perhaps the most important.  It accepts the agent's choice of action `rotor_speeds`, which is used to prepare the next state to pass on to the agent.  Then, the reward is computed from `get_reward()`.  The episode is considered done if the time limit has been exceeded, or the quadcopter has travelled outside of the bounds of the simulation.\n",
    "\n",
    "In the next section, you will learn how to test the performance of an agent on this task."
   ]
  },
  {
   "cell_type": "markdown",
   "metadata": {},
   "source": [
    "## The Agent\n",
    "\n",
    "The sample agent given in `agents/policy_search.py` uses a very simplistic linear policy to directly compute the action vector as a dot product of the state vector and a matrix of weights. Then, it randomly perturbs the parameters by adding some Gaussian noise, to produce a different policy. Based on the average reward obtained in each episode (`score`), it keeps track of the best set of parameters found so far, how the score is changing, and accordingly tweaks a scaling factor to widen or tighten the noise.\n",
    "\n",
    "Run the code cell below to see how the agent performs on the sample task."
   ]
  },
  {
   "cell_type": "code",
   "execution_count": 9,
   "metadata": {},
   "outputs": [
    {
     "name": "stdout",
     "output_type": "stream",
     "text": [
      "Episode =   27, score =  -4.096 (best =  -4.096), noise_scale = 3.25"
     ]
    },
    {
     "name": "stderr",
     "output_type": "stream",
     "text": [
      "/home/srini/MLND2ND/RL-Quadcopter-2/physics_sim.py:114: RuntimeWarning: invalid value encountered in double_scalars\n",
      "  J = V / n * D\n",
      "/home/srini/MLND2ND/RL-Quadcopter-2/physics_sim.py:114: RuntimeWarning: divide by zero encountered in double_scalars\n",
      "  J = V / n * D\n"
     ]
    },
    {
     "name": "stdout",
     "output_type": "stream",
     "text": [
      "Episode =  250, score =  -4.096 (best =  -4.096), noise_scale = 3.2"
     ]
    }
   ],
   "source": [
    "import sys\n",
    "import pandas as pd\n",
    "from agents.policy_search import PolicySearch_Agent\n",
    "from task import Task\n",
    "\n",
    "num_episodes = 250\n",
    "target_pos = np.array([0., 0., 10.])\n",
    "init_pose = np.array([0., 0., 0., 0., 0., 0.])  # initial pose\n",
    "init_velocities = np.array([0., 0., 0.])         # initial velocities\n",
    "init_angle_velocities = np.array([0., 0., 0.])   # initial angle velocities\n",
    "task = Task(init_pose, init_velocities, init_angle_velocities, target_pose=target_pos)\n",
    "agent = PolicySearch_Agent(task) \n",
    "\n",
    "for i_episode in range(1, num_episodes+1):\n",
    "    state = agent.reset_episode() # start a new episode\n",
    "    while True:\n",
    "        action = agent.act(state) \n",
    "        next_state, reward, done = task.step(action)\n",
    "        agent.step(reward, done)\n",
    "        state = next_state\n",
    "        if done:\n",
    "            print(\"\\rEpisode = {:4d}, score = {:7.3f} (best = {:7.3f}), noise_scale = {}\".format(\n",
    "                i_episode, agent.score, agent.best_score, agent.noise_scale), end=\"\")  # [debug]\n",
    "            break\n",
    "    sys.stdout.flush()"
   ]
  },
  {
   "cell_type": "markdown",
   "metadata": {},
   "source": [
    "This agent should perform very poorly on this task.  And that's where you come in!"
   ]
  },
  {
   "cell_type": "markdown",
   "metadata": {
    "collapsed": true
   },
   "source": [
    "## Define the Task, Design the Agent, and Train Your Agent!\n",
    "\n",
    "Amend `task.py` to specify a task of your choosing.  If you're unsure what kind of task to specify, you may like to teach your quadcopter to takeoff, hover in place, land softly, or reach a target pose.  \n",
    "\n",
    "After specifying your task, use the sample agent in `agents/policy_search.py` as a template to define your own agent in `agents/agent.py`.  You can borrow whatever you need from the sample agent, including ideas on how you might modularize your code (using helper methods like `act()`, `learn()`, `reset_episode()`, etc.).\n",
    "\n",
    "Note that it is **highly unlikely** that the first agent and task that you specify will learn well.  You will likely have to tweak various hyperparameters and the reward function for your task until you arrive at reasonably good behavior.\n",
    "\n",
    "As you develop your agent, it's important to keep an eye on how it's performing. Use the code above as inspiration to build in a mechanism to log/save the total rewards obtained in each episode to file.  If the episode rewards are gradually increasing, this is an indication that your agent is learning."
   ]
  },
  {
   "cell_type": "code",
   "execution_count": 10,
   "metadata": {
    "scrolled": false
   },
   "outputs": [
    {
     "name": "stderr",
     "output_type": "stream",
     "text": [
      "Using TensorFlow backend.\n"
     ]
    },
    {
     "name": "stdout",
     "output_type": "stream",
     "text": [
      "WARNING:tensorflow:From /home/srini/.conda/envs/quadcop/lib/python3.6/site-packages/tensorflow/python/framework/op_def_library.py:263: colocate_with (from tensorflow.python.framework.ops) is deprecated and will be removed in a future version.\n",
      "Instructions for updating:\n",
      "Colocations handled automatically by placer.\n",
      "WARNING:tensorflow:From /home/srini/.conda/envs/quadcop/lib/python3.6/site-packages/tensorflow/python/ops/math_ops.py:3066: to_int32 (from tensorflow.python.ops.math_ops) is deprecated and will be removed in a future version.\n",
      "Instructions for updating:\n",
      "Use tf.cast instead.\n",
      "\n",
      "Episode =    1, score = -25.384 (best = -25.384)\n",
      "Episode =    2, score =  68.438 (best =  68.438)\n",
      "Episode =    3, score = 259.798 (best = 259.798)\n",
      "Episode =    4, score =  69.309 (best = 259.798)\n",
      "Episode =    5, score = 117.207 (best = 259.798)\n",
      "Episode =    6, score = 140.124 (best = 259.798)\n",
      "Episode =    7, score = 145.875 (best = 259.798)\n",
      "Episode =    8, score = 154.260 (best = 259.798)\n",
      "Episode =    9, score = 153.797 (best = 259.798)\n",
      "Episode =   10, score =  82.440 (best = 259.798)\n",
      "Episode =   11, score =  76.554 (best = 259.798)\n",
      "Episode =   12, score = 111.523 (best = 259.798)\n",
      "Episode =   13, score =  84.386 (best = 259.798)\n",
      "Episode =   14, score = 103.801 (best = 259.798)\n",
      "Episode =   15, score = 122.570 (best = 259.798)\n",
      "Episode =   16, score = 243.753 (best = 259.798)\n",
      "Episode =   17, score = 125.819 (best = 259.798)\n",
      "Episode =   18, score =  78.402 (best = 259.798)\n",
      "Episode =   19, score = 101.106 (best = 259.798)\n",
      "Episode =   20, score = 101.497 (best = 259.798)\n",
      "Episode =   21, score = 111.848 (best = 259.798)\n",
      "Episode =   22, score = 100.984 (best = 259.798)\n",
      "Episode =   23, score =  89.886 (best = 259.798)\n",
      "Episode =   24, score = 114.600 (best = 259.798)\n",
      "Episode =   25, score = 133.546 (best = 259.798)\n",
      "Episode =   26, score = 130.839 (best = 259.798)\n",
      "Episode =   27, score = -137.091 (best = 259.798)\n",
      "Episode =   28, score = 108.917 (best = 259.798)\n",
      "Episode =   29, score =  89.188 (best = 259.798)\n",
      "Episode =   30, score =  49.901 (best = 259.798)\n",
      "Episode =   31, score =  54.560 (best = 259.798)\n",
      "Episode =   32, score =  77.355 (best = 259.798)\n",
      "Episode =   33, score = 125.506 (best = 259.798)\n",
      "Episode =   34, score = 109.737 (best = 259.798)\n",
      "Episode =   35, score =  93.101 (best = 259.798)\n",
      "Episode =   36, score = 119.521 (best = 259.798)\n",
      "Episode =   37, score =  41.626 (best = 259.798)\n",
      "Episode =   38, score = -69.602 (best = 259.798)\n",
      "Episode =   39, score = -61.539 (best = 259.798)\n",
      "Episode =   40, score = -57.146 (best = 259.798)\n",
      "Episode =   41, score = -39.489 (best = 259.798)\n",
      "Episode =   42, score = -12.761 (best = 259.798)\n",
      "Episode =   43, score = -21.673 (best = 259.798)\n",
      "Episode =   44, score = -29.986 (best = 259.798)\n",
      "Episode =   45, score = -36.703 (best = 259.798)\n",
      "Episode =   46, score =   2.855 (best = 259.798)\n",
      "Episode =   47, score = -15.071 (best = 259.798)\n",
      "Episode =   48, score = -27.244 (best = 259.798)\n",
      "Episode =   49, score = -54.921 (best = 259.798)\n",
      "Episode =   50, score = 275.374 (best = 275.374)\n",
      "Episode =   51, score = 225.802 (best = 275.374)\n",
      "Episode =   52, score =  81.743 (best = 275.374)\n",
      "Episode =   53, score =  72.404 (best = 275.374)\n",
      "Episode =   54, score =  79.277 (best = 275.374)\n",
      "Episode =   55, score =   9.834 (best = 275.374)\n",
      "Episode =   56, score =   9.532 (best = 275.374)\n",
      "Episode =   57, score =  64.028 (best = 275.374)\n",
      "Episode =   58, score = -27.512 (best = 275.374)\n",
      "Episode =   59, score = -350.698 (best = 275.374)\n",
      "Episode =   60, score = -171.780 (best = 275.374)\n",
      "Episode =   61, score = -54.556 (best = 275.374)\n",
      "Episode =   62, score =  14.232 (best = 275.374)\n",
      "Episode =   63, score =  42.209 (best = 275.374)\n",
      "Episode =   64, score =  39.994 (best = 275.374)\n",
      "Episode =   65, score =  59.097 (best = 275.374)\n",
      "Episode =   66, score =  67.287 (best = 275.374)\n",
      "Episode =   67, score =  67.155 (best = 275.374)\n",
      "Episode =   68, score =  86.997 (best = 275.374)\n",
      "Episode =   69, score =  97.320 (best = 275.374)\n",
      "Episode =   70, score = 108.232 (best = 275.374)\n",
      "Episode =   71, score = 129.530 (best = 275.374)\n",
      "Episode =   72, score = 140.467 (best = 275.374)\n",
      "Episode =   73, score = 159.474 (best = 275.374)\n",
      "Episode =   74, score = 149.487 (best = 275.374)\n",
      "Episode =   75, score = 147.748 (best = 275.374)\n",
      "Episode =   76, score = 136.087 (best = 275.374)\n",
      "Episode =   77, score = 135.255 (best = 275.374)\n",
      "Episode =   78, score = 134.880 (best = 275.374)\n",
      "Episode =   79, score = 135.382 (best = 275.374)\n",
      "Episode =   80, score = 124.242 (best = 275.374)\n",
      "Episode =   81, score = 123.395 (best = 275.374)\n",
      "Episode =   82, score = 132.451 (best = 275.374)\n",
      "Episode =   83, score = 131.856 (best = 275.374)\n",
      "Episode =   84, score = 132.203 (best = 275.374)\n",
      "Episode =   85, score = 131.632 (best = 275.374)\n",
      "Episode =   86, score = 131.977 (best = 275.374)\n",
      "Episode =   87, score = 131.461 (best = 275.374)\n",
      "Episode =   88, score = 131.133 (best = 275.374)\n",
      "Episode =   89, score = 131.713 (best = 275.374)\n",
      "Episode =   90, score = 120.784 (best = 275.374)\n",
      "Episode =   91, score = 130.457 (best = 275.374)\n",
      "Episode =   92, score = 130.862 (best = 275.374)\n",
      "Episode =   93, score = 131.173 (best = 275.374)\n",
      "Episode =   94, score = 130.759 (best = 275.374)\n",
      "Episode =   95, score = 131.141 (best = 275.374)\n",
      "Episode =   96, score = 121.624 (best = 275.374)\n",
      "Episode =   97, score = 121.436 (best = 275.374)\n",
      "Episode =   98, score = 121.900 (best = 275.374)\n",
      "Episode =   99, score = 132.398 (best = 275.374)\n",
      "Episode =  100, score = 132.109 (best = 275.374)\n",
      "Episode =  101, score = 133.321 (best = 275.374)\n",
      "Episode =  102, score = 132.189 (best = 275.374)\n",
      "Episode =  103, score = 132.258 (best = 275.374)\n",
      "Episode =  104, score = 142.922 (best = 275.374)\n",
      "Episode =  105, score = 143.139 (best = 275.374)\n",
      "Episode =  106, score = 142.941 (best = 275.374)\n",
      "Episode =  107, score = 153.771 (best = 275.374)\n",
      "Episode =  108, score = 153.538 (best = 275.374)\n",
      "Episode =  109, score = 154.093 (best = 275.374)\n",
      "Episode =  110, score = 164.848 (best = 275.374)\n",
      "Episode =  111, score = 164.981 (best = 275.374)\n",
      "Episode =  112, score = 164.983 (best = 275.374)\n",
      "Episode =  113, score = 164.897 (best = 275.374)\n",
      "Episode =  114, score = 165.211 (best = 275.374)\n",
      "Episode =  115, score = 165.035 (best = 275.374)\n",
      "Episode =  116, score = 165.000 (best = 275.374)\n",
      "Episode =  117, score = 165.404 (best = 275.374)\n",
      "Episode =  118, score = 165.481 (best = 275.374)\n",
      "Episode =  119, score = 154.020 (best = 275.374)\n",
      "Episode =  120, score = 165.695 (best = 275.374)\n",
      "Episode =  121, score = 154.074 (best = 275.374)\n",
      "Episode =  122, score = 143.551 (best = 275.374)\n",
      "Episode =  123, score = 144.349 (best = 275.374)\n",
      "Episode =  124, score = 132.921 (best = 275.374)\n",
      "Episode =  125, score = 144.920 (best = 275.374)\n",
      "Episode =  126, score = 141.961 (best = 275.374)\n",
      "Episode =  127, score = 131.939 (best = 275.374)\n",
      "Episode =  128, score = 119.146 (best = 275.374)\n",
      "Episode =  129, score = 119.543 (best = 275.374)\n",
      "Episode =  130, score = 120.660 (best = 275.374)\n",
      "Episode =  131, score = 129.709 (best = 275.374)\n",
      "Episode =  132, score = 111.324 (best = 275.374)\n",
      "Episode =  133, score = 143.352 (best = 275.374)\n",
      "Episode =  134, score = 143.967 (best = 275.374)\n",
      "Episode =  135, score = 167.966 (best = 275.374)\n",
      "Episode =  136, score = 167.717 (best = 275.374)\n",
      "Episode =  137, score = 156.671 (best = 275.374)\n",
      "Episode =  138, score = 165.822 (best = 275.374)\n",
      "Episode =  139, score = 154.822 (best = 275.374)\n",
      "Episode =  140, score = 143.611 (best = 275.374)\n",
      "Episode =  141, score = 118.984 (best = 275.374)\n",
      "Episode =  142, score = 118.506 (best = 275.374)\n",
      "Episode =  143, score = 120.505 (best = 275.374)\n",
      "Episode =  144, score = 143.044 (best = 275.374)\n",
      "Episode =  145, score = 142.130 (best = 275.374)\n",
      "Episode =  146, score = 142.689 (best = 275.374)\n",
      "Episode =  147, score = 142.891 (best = 275.374)\n",
      "Episode =  148, score = 142.868 (best = 275.374)\n",
      "Episode =  149, score = 143.103 (best = 275.374)\n",
      "Episode =  150, score = 143.220 (best = 275.374)\n",
      "Episode =  151, score = 142.629 (best = 275.374)\n",
      "Episode =  152, score = 142.675 (best = 275.374)\n",
      "Episode =  153, score = 142.671 (best = 275.374)\n",
      "Episode =  154, score = 142.517 (best = 275.374)\n",
      "Episode =  155, score = 142.380 (best = 275.374)\n"
     ]
    },
    {
     "name": "stdout",
     "output_type": "stream",
     "text": [
      "Episode =  156, score = 142.421 (best = 275.374)\n",
      "Episode =  157, score = 142.992 (best = 275.374)\n",
      "Episode =  158, score = 143.600 (best = 275.374)\n",
      "Episode =  159, score = 144.835 (best = 275.374)\n",
      "Episode =  160, score = 144.216 (best = 275.374)\n",
      "Episode =  161, score = 153.195 (best = 275.374)\n",
      "Episode =  162, score = 153.558 (best = 275.374)\n",
      "Episode =  163, score = 153.380 (best = 275.374)\n",
      "Episode =  164, score = 153.066 (best = 275.374)\n",
      "Episode =  165, score = 153.433 (best = 275.374)\n",
      "Episode =  166, score = 142.795 (best = 275.374)\n",
      "Episode =  167, score = 143.951 (best = 275.374)\n",
      "Episode =  168, score = 141.295 (best = 275.374)\n",
      "Episode =  169, score = 144.088 (best = 275.374)\n",
      "Episode =  170, score = 165.565 (best = 275.374)\n",
      "Episode =  171, score = 107.971 (best = 275.374)\n",
      "Episode =  172, score = 140.887 (best = 275.374)\n",
      "Episode =  173, score = 192.661 (best = 275.374)\n",
      "Episode =  174, score =  88.076 (best = 275.374)\n",
      "Episode =  175, score = 106.469 (best = 275.374)\n",
      "Episode =  176, score = 187.705 (best = 275.374)\n",
      "Episode =  177, score = 238.923 (best = 275.374)\n",
      "Episode =  178, score =  84.265 (best = 275.374)\n",
      "Episode =  179, score = 119.050 (best = 275.374)\n",
      "Episode =  180, score = 132.051 (best = 275.374)\n",
      "Episode =  181, score = 149.588 (best = 275.374)\n",
      "Episode =  182, score = 193.532 (best = 275.374)\n",
      "Episode =  183, score = 290.406 (best = 290.406)\n",
      "Episode =  184, score = 450.352 (best = 450.352)\n",
      "Episode =  185, score =  79.560 (best = 450.352)\n",
      "Episode =  186, score = 104.077 (best = 450.352)\n",
      "Episode =  187, score = 113.041 (best = 450.352)\n",
      "Episode =  188, score = 104.097 (best = 450.352)\n",
      "Episode =  189, score =  88.310 (best = 450.352)\n",
      "Episode =  190, score =  21.323 (best = 450.352)\n",
      "Episode =  191, score = -366.181 (best = 450.352)\n",
      "Episode =  192, score =  82.113 (best = 450.352)\n",
      "Episode =  193, score =  97.900 (best = 450.352)\n",
      "Episode =  194, score = 106.811 (best = 450.352)\n",
      "Episode =  195, score = 104.744 (best = 450.352)\n",
      "Episode =  196, score = 113.691 (best = 450.352)\n",
      "Episode =  197, score = 113.703 (best = 450.352)\n",
      "Episode =  198, score = 104.762 (best = 450.352)\n",
      "Episode =  199, score =  89.282 (best = 450.352)\n",
      "Episode =  200, score =  71.759 (best = 450.352)\n",
      "Episode =  201, score = -74.150 (best = 450.352)\n",
      "Episode =  202, score = 296.920 (best = 450.352)\n",
      "Episode =  203, score = 302.212 (best = 450.352)\n",
      "Episode =  204, score = 216.122 (best = 450.352)\n",
      "Episode =  205, score = 171.606 (best = 450.352)\n",
      "Episode =  206, score = 158.403 (best = 450.352)\n",
      "Episode =  207, score = 158.509 (best = 450.352)\n",
      "Episode =  208, score = 143.171 (best = 450.352)\n",
      "Episode =  209, score = 141.078 (best = 450.352)\n",
      "Episode =  210, score = 130.067 (best = 450.352)\n",
      "Episode =  211, score = 118.977 (best = 450.352)\n",
      "Episode =  212, score = 129.995 (best = 450.352)\n",
      "Episode =  213, score = 130.184 (best = 450.352)\n",
      "Episode =  214, score = 119.020 (best = 450.352)\n",
      "Episode =  215, score = 119.252 (best = 450.352)\n",
      "Episode =  216, score = 119.198 (best = 450.352)\n",
      "Episode =  217, score = 102.234 (best = 450.352)\n",
      "Episode =  218, score = 110.424 (best = 450.352)\n",
      "Episode =  219, score =  93.623 (best = 450.352)\n",
      "Episode =  220, score =  93.530 (best = 450.352)\n",
      "Episode =  221, score =  69.135 (best = 450.352)\n",
      "Episode =  222, score =  68.954 (best = 450.352)\n",
      "Episode =  223, score = 124.806 (best = 450.352)\n",
      "Episode =  224, score = 124.204 (best = 450.352)\n",
      "Episode =  225, score = 132.608 (best = 450.352)\n",
      "Episode =  226, score = 140.984 (best = 450.352)\n",
      "Episode =  227, score = 131.503 (best = 450.352)\n",
      "Episode =  228, score = 131.168 (best = 450.352)\n",
      "Episode =  229, score = 119.701 (best = 450.352)\n",
      "Episode =  230, score = 111.098 (best = 450.352)\n",
      "Episode =  231, score = 105.965 (best = 450.352)\n",
      "Episode =  232, score = 121.144 (best = 450.352)\n",
      "Episode =  233, score = 162.961 (best = 450.352)\n",
      "Episode =  234, score = 460.919 (best = 460.919)\n",
      "Episode =  235, score = 106.572 (best = 460.919)\n",
      "Episode =  236, score =  86.914 (best = 460.919)\n",
      "Episode =  237, score = 104.490 (best = 460.919)\n",
      "Episode =  238, score = 102.297 (best = 460.919)\n",
      "Episode =  239, score = 102.314 (best = 460.919)\n",
      "Episode =  240, score =  93.377 (best = 460.919)\n",
      "Episode =  241, score =  97.745 (best = 460.919)\n",
      "Episode =  242, score =  89.101 (best = 460.919)\n",
      "Episode =  243, score = -337.221 (best = 460.919)\n",
      "Episode =  244, score =  61.506 (best = 460.919)\n",
      "Episode =  245, score = 104.092 (best = 460.919)\n",
      "Episode =  246, score =  92.897 (best = 460.919)\n",
      "Episode =  247, score =  94.975 (best = 460.919)\n",
      "Episode =  248, score =  77.161 (best = 460.919)\n",
      "Episode =  249, score =  79.277 (best = 460.919)\n",
      "Episode =  250, score =  62.021 (best = 460.919)"
     ]
    }
   ],
   "source": [
    "## TODO: Train your agent here.\n",
    "import sys\n",
    "import numpy as np\n",
    "import pandas as pd\n",
    "from task import Task\n",
    "from agents.agent import RLA\n",
    "\n",
    "num_episodes = 250\n",
    "reward_hist = []\n",
    "\n",
    "# settings\n",
    "init_pose = np.array([0.0, 0.0, 10.0, 0.0, 0.0, 0.0])\n",
    "init_velocities = np.array([0.0, 0.0, 0.0])\n",
    "init_angle_velocities = np.array([0.0, 0.0, 0.0])\n",
    "\n",
    "#take off setting\n",
    "#takeoff_target_pose=np.array([0.0, 0.0, 25.0, 0.0, 0.0, 0.0])\n",
    "\n",
    "#Hover setting\n",
    "hover_target_pose=np.array([0.0, 0.0, 10.0, 0.0, 0.0, 0.0])\n",
    "\n",
    "task = Task(init_pose=init_pose,\n",
    "            init_velocities=init_velocities,\n",
    "            init_angle_velocities=init_angle_velocities,\n",
    "            runtime=5.0,\n",
    "            target_pose=hover_target_pose)\n",
    "agent = RLA(task)\n",
    "\n",
    "for i_episode in range(1, num_episodes+1):\n",
    "    state = agent.reset_episode()\n",
    "    while True:\n",
    "        action = agent.act(state)\n",
    "        next_state, reward, done = task.step(action)\n",
    "        agent.step(action, reward, next_state, done)\n",
    "        if done:\n",
    "            print(\"\\nEpisode = {:4d}, score = {:7.3f} (best = {:7.3f})\".format(i_episode, agent.score, agent.best_score), end=\"\")\n",
    "            reward_hist.append(reward)\n",
    "            break\n",
    "    sys.stdout.flush()\n",
    "\n"
   ]
  },
  {
   "cell_type": "markdown",
   "metadata": {
    "collapsed": true
   },
   "source": [
    "## Plot the Rewards\n",
    "\n",
    "Once you are satisfied with your performance, plot the episode rewards, either from a single run, or averaged over multiple runs. "
   ]
  },
  {
   "cell_type": "code",
   "execution_count": 11,
   "metadata": {},
   "outputs": [
    {
     "data": {
      "text/plain": [
       "[<matplotlib.lines.Line2D at 0x7f0a456a23c8>]"
      ]
     },
     "execution_count": 11,
     "metadata": {},
     "output_type": "execute_result"
    },
    {
     "data": {
      "image/png": "[encoded data removed]",
      "text/plain": [
       "<matplotlib.figure.Figure at 0x7f0ac4e0bc50>"
      ]
     },
     "metadata": {
      "needs_background": "light"
     },
     "output_type": "display_data"
    }
   ],
   "source": [
    "## TODO: Plot the rewards.\n",
    "import matplotlib.pyplot as plt\n",
    "%matplotlib inline\n",
    "\n",
    "plt.plot(reward_hist)"
   ]
  },
  {
   "cell_type": "markdown",
   "metadata": {},
   "source": [
    "# Run some simulations"
   ]
  },
  {
   "cell_type": "code",
   "execution_count": 12,
   "metadata": {},
   "outputs": [
    {
     "name": "stdout",
     "output_type": "stream",
     "text": [
      "The autoreload extension is already loaded. To reload it, use:\n",
      "  %reload_ext autoreload\n"
     ]
    }
   ],
   "source": [
    "%load_ext autoreload\n",
    "%autoreload 2\n",
    "\n",
    "import csv\n",
    "import numpy as np\n",
    "from task import Task\n",
    "\n",
    "file_output = 'data_rla.csv'                         # file name for saved results\n",
    "\n",
    "# Setup\n",
    "task = Task(init_pose, init_velocities, init_angle_velocities, runtime)\n",
    "agent = RLA(task)\n",
    "done = False\n",
    "labels = ['time', 'x', 'y', 'z', 'phi', 'theta', 'psi', 'x_velocity',\n",
    "          'y_velocity', 'z_velocity', 'phi_velocity', 'theta_velocity',\n",
    "          'psi_velocity', 'rotor_speed1', 'rotor_speed2', 'rotor_speed3', 'rotor_speed4']\n",
    "results = {x : [] for x in labels}\n",
    "num_episodes = 10\n",
    "\n",
    "# Run the simulation, and save the results.\n",
    "with open(file_output, 'w') as csvfile:\n",
    "    writer = csv.writer(csvfile)\n",
    "    writer.writerow(labels)\n",
    "    state = agent.reset_episode()\n",
    "    for i in range(num_episodes):\n",
    "        while True:\n",
    "            rotor_speeds = agent.act(state)\n",
    "            _, _, done = task.step(rotor_speeds)\n",
    "            to_write = [task.sim.time] + list(task.sim.pose) + list(task.sim.v) + list(task.sim.angular_v) + list(rotor_speeds)\n",
    "            for j in range(len(labels)):\n",
    "                results[labels[j]].append(to_write[j])\n",
    "            writer.writerow(to_write)\n",
    "            if done:\n",
    "                break"
   ]
  },
  {
   "cell_type": "markdown",
   "metadata": {},
   "source": [
    "### Simulation Visualizations\n",
    "x, y, z positions over time"
   ]
  },
  {
   "cell_type": "code",
   "execution_count": 13,
   "metadata": {},
   "outputs": [
    {
     "data": {
      "image/png": "[encoded data removed]",
      "text/plain": [
       "<matplotlib.figure.Figure at 0x7f0a9cbfc8d0>"
      ]
     },
     "metadata": {
      "needs_background": "light"
     },
     "output_type": "display_data"
    }
   ],
   "source": [
    "import matplotlib.pyplot as plt\n",
    "%matplotlib inline\n",
    "\n",
    "plt.plot(results['time'], results['x'], label='x')\n",
    "plt.plot(results['time'], results['y'], label='y')\n",
    "plt.plot(results['time'], results['z'], label='z')\n",
    "plt.legend()\n",
    "_ = plt.ylim()\n",
    "\n"
   ]
  },
  {
   "cell_type": "markdown",
   "metadata": {},
   "source": [
    "x, y, z velocities over time"
   ]
  },
  {
   "cell_type": "code",
   "execution_count": 14,
   "metadata": {},
   "outputs": [
    {
     "data": {
      "image/png": "[encoded data removed]",
      "text/plain": [
       "<matplotlib.figure.Figure at 0x7f0a6c0a8c88>"
      ]
     },
     "metadata": {
      "needs_background": "light"
     },
     "output_type": "display_data"
    }
   ],
   "source": [
    "plt.plot(results['time'], results['x_velocity'], label='x_hat')\n",
    "plt.plot(results['time'], results['y_velocity'], label='y_hat')\n",
    "plt.plot(results['time'], results['z_velocity'], label='z_hat')\n",
    "plt.legend()\n",
    "_ = plt.ylim()\n",
    "\n"
   ]
  },
  {
   "cell_type": "markdown",
   "metadata": {},
   "source": [
    "Euler angles"
   ]
  },
  {
   "cell_type": "code",
   "execution_count": 15,
   "metadata": {},
   "outputs": [
    {
     "data": {
      "image/png": "[encoded data removed]",
      "text/plain": [
       "<matplotlib.figure.Figure at 0x7f0a6c0fa550>"
      ]
     },
     "metadata": {
      "needs_background": "light"
     },
     "output_type": "display_data"
    }
   ],
   "source": [
    "plt.plot(results['time'], results['phi'], label='phi')\n",
    "plt.plot(results['time'], results['theta'], label='theta')\n",
    "plt.plot(results['time'], results['psi'], label='psi')\n",
    "plt.legend()\n",
    "_ = plt.ylim()"
   ]
  },
  {
   "cell_type": "markdown",
   "metadata": {},
   "source": [
    "Angular velocities (rotation)"
   ]
  },
  {
   "cell_type": "code",
   "execution_count": 16,
   "metadata": {
    "scrolled": true
   },
   "outputs": [
    {
     "data": {
      "image/png": "[encoded data removed]",
      "text/plain": [
       "<matplotlib.figure.Figure at 0x7f0a6c104c18>"
      ]
     },
     "metadata": {
      "needs_background": "light"
     },
     "output_type": "display_data"
    }
   ],
   "source": [
    "plt.plot(results['time'], results['phi_velocity'], label='phi_velocity')\n",
    "plt.plot(results['time'], results['theta_velocity'], label='theta_velocity')\n",
    "plt.plot(results['time'], results['psi_velocity'], label='psi_velocity')\n",
    "plt.legend()\n",
    "_ = plt.ylim()"
   ]
  },
  {
   "cell_type": "markdown",
   "metadata": {},
   "source": [
    "Agents choice of actions"
   ]
  },
  {
   "cell_type": "code",
   "execution_count": 17,
   "metadata": {},
   "outputs": [
    {
     "data": {
      "image/png": "[encoded data removed]",
      "text/plain": [
       "<matplotlib.figure.Figure at 0x7f0a2fd3e080>"
      ]
     },
     "metadata": {
      "needs_background": "light"
     },
     "output_type": "display_data"
    }
   ],
   "source": [
    "plt.plot(results['time'], results['rotor_speed1'], label='Rotor 1 revolutions / second')\n",
    "plt.plot(results['time'], results['rotor_speed2'], label='Rotor 2 revolutions / second')\n",
    "plt.plot(results['time'], results['rotor_speed3'], label='Rotor 3 revolutions / second')\n",
    "plt.plot(results['time'], results['rotor_speed4'], label='Rotor 4 revolutions / second')\n",
    "plt.legend()\n",
    "_ = plt.ylim()\n",
    "\n"
   ]
  },
  {
   "cell_type": "markdown",
   "metadata": {
    "collapsed": true
   },
   "source": [
    "## Reflections\n",
    "\n",
    "**Question 1**: Describe the task that you specified in `task.py`.  How did you design the reward function?\n",
    "\n",
    "**Answer**:\n",
    "\n",
    "I tried two tasks, Hover and Takeoff, but wasn't able to train the copter successfully. Tried many different ways to fix the issues, RL training needs significant amount of time and effort.\n",
    "\n",
    "__Reward Function Design__\n",
    "\n",
    "__Takeoff(commented out)__\n",
    "For takeoff, reward function was setup to punish any movement along x and y axis based on value of movement mapped to the range (-1,0) by tanh function. In similar fashion, any rotation was punished with vales mapped to the range (-1, 0) by tanh function. \n",
    "\n",
    "For the z-axis, where desired behavior was needed to takeoff, reward function was designed to learn takeoff by rewarding positive movement in the direction by 3 times tanh function and negative movement is punished by similar scaling, hoping it would influence learning as shown in following code snippet.\n",
    "\n",
    "```\n",
    "        #Takeoff - Punish upto -1 if copter moves away from x and y coordinates\n",
    "        x_punish = np.tanh(abs(self.sim.pose[0] - self.target_pose[0]))\n",
    "        y_punish = np.tanh(abs(self.sim.pose[1] - self.target_pose[1]))\n",
    "        \n",
    "        #Punish up to -1 for rotating, it is just supposed to take off without rotating!\n",
    "        rot_1_punish = np.tanh(abs(self.sim.pose[3]))\n",
    "        rot_2_punish = np.tanh(abs(self.sim.pose[4]))\n",
    "        rot_3_punish = np.tanh(abs(self.sim.pose[5])) \n",
    "       \n",
    "        #Punish if negative, reward if positive. Amplify movement on z axis, we want copter to take off in positive Z...\n",
    "        z_punish_reward = 3*np.tanh(abs(self.sim.pose[2] - self.init_z))\n",
    "        \n",
    "        reward = z_punish_reward - x_punish - y_punish - rot_1_punish - rot_2_punish - rot_3_punish                       \n",
    "        return reward\n",
    "```\n",
    "\n",
    "__Hover__\n",
    "\n",
    "Attempt was made to hover the copter near the initial position by designing reward function, so that when copter is within 2 units of target position a reward of 10 was given, and it was punished by value of deviation in the range of (-1,0) using tanh function based on distance to the target position.\n",
    "\n",
    "Any rotation or velocities was punished similarly as well in the range of (-1,0) with tanh function as shown in following code snippet.\n",
    "\n",
    "```\n",
    "        #Hover\n",
    "        punish = []\n",
    "        distance = abs(np.linalg.norm(self.target_pose[:3] - self.sim.pose[:3]))\n",
    "        #Reward 5 points if copter stays within 2 units on z-axis, if not punish up to 1 using tanh.\n",
    "        if distance < 2:\n",
    "            punish.append(-10)\n",
    "        else:\n",
    "            punish.append(np.tanh(distance))\n",
    "        #Punish upto -1 for any other movements like rotation or velocity\n",
    "        punish.append(np.tanh(np.linalg.norm(self.sim.pose[3:6])))\n",
    "        punish.append(np.tanh(np.linalg.norm(self.sim.v)))\n",
    "        reward = -sum(punish)\n",
    "        return reward\n",
    "```        "
   ]
  },
  {
   "cell_type": "markdown",
   "metadata": {},
   "source": [
    "**Question 2**: Discuss your agent briefly, using the following questions as a guide:\n",
    "\n",
    "- What learning algorithm(s) did you try? What worked best for you?\n",
    "- What was your final choice of hyperparameters (such as $\\alpha$, $\\gamma$, $\\epsilon$, etc.)?\n",
    "- What neural network architecture did you use (if any)? Specify layers, sizes, activation functions, etc.\n",
    "\n",
    "**Answer**:\n",
    "\n",
    "I used the popular actor critic method [Deep Deterministic Policy Gradient algorithm (DDPG)](https://arxiv.org/pdf/1509.02971.pdf). \n",
    "After many trials and permutations of hyperparameters, I used the following:\n",
    "\n",
    "```\n",
    "        #Initialize noise process\n",
    "        self.exploration_mu = 0\n",
    "        self.exploration_theta = 0.15\n",
    "        self.exploration_sigma = 0.2\n",
    "        \n",
    "        #Replay memory Initialization\n",
    "        self.buffer_size, self.batch_size = 2000000, 64\n",
    "        \n",
    "        #Initialize algorithm parameters\n",
    "        self.gamma, self.tau = 0.95, 0.001\n",
    "```        \n",
    "\n",
    "Learning rates used:\n",
    "* Actor - 0.0001\n",
    "* Critic - 0.001\n",
    "\n",
    "Final layer weights initialized:\n",
    "* Actor - [ -0.001, 0.001 ]\n",
    "* Critic - [ -0.0005, 0.0005 ]\n",
    "\n",
    "Summary of actor and critic architecture follow:\n"
   ]
  },
  {
   "cell_type": "code",
   "execution_count": 18,
   "metadata": {},
   "outputs": [
    {
     "name": "stdout",
     "output_type": "stream",
     "text": [
      "_________________________________________________________________\n",
      "Layer (type)                 Output Shape              Param #   \n",
      "=================================================================\n",
      "state (InputLayer)           (None, 18)                0         \n",
      "_________________________________________________________________\n",
      "dense_15 (Dense)             (None, 32)                608       \n",
      "_________________________________________________________________\n",
      "dense_16 (Dense)             (None, 128)               4224      \n",
      "_________________________________________________________________\n",
      "dense_17 (Dense)             (None, 32)                4128      \n",
      "_________________________________________________________________\n",
      "batch_normalization_5 (Batch (None, 32)                128       \n",
      "_________________________________________________________________\n",
      "model_actions (Dense)        (None, 4)                 132       \n",
      "_________________________________________________________________\n",
      "actions (Lambda)             (None, 4)                 0         \n",
      "=================================================================\n",
      "Total params: 9,220\n",
      "Trainable params: 9,156\n",
      "Non-trainable params: 64\n",
      "_________________________________________________________________\n",
      "None\n"
     ]
    }
   ],
   "source": [
    "# Actor summary\n",
    "print(agent.actor_local.model.summary())"
   ]
  },
  {
   "cell_type": "code",
   "execution_count": 19,
   "metadata": {},
   "outputs": [
    {
     "name": "stdout",
     "output_type": "stream",
     "text": [
      "__________________________________________________________________________________________________\n",
      "Layer (type)                    Output Shape         Param #     Connected to                     \n",
      "==================================================================================================\n",
      "states (InputLayer)             (None, 18)           0                                            \n",
      "__________________________________________________________________________________________________\n",
      "actions (InputLayer)            (None, 4)            0                                            \n",
      "__________________________________________________________________________________________________\n",
      "dense_21 (Dense)                (None, 32)           608         states[0][0]                     \n",
      "__________________________________________________________________________________________________\n",
      "dense_23 (Dense)                (None, 32)           160         actions[0][0]                    \n",
      "__________________________________________________________________________________________________\n",
      "dense_22 (Dense)                (None, 64)           2112        dense_21[0][0]                   \n",
      "__________________________________________________________________________________________________\n",
      "dense_24 (Dense)                (None, 64)           2112        dense_23[0][0]                   \n",
      "__________________________________________________________________________________________________\n",
      "add_3 (Add)                     (None, 64)           0           dense_22[0][0]                   \n",
      "                                                                 dense_24[0][0]                   \n",
      "__________________________________________________________________________________________________\n",
      "activation_3 (Activation)       (None, 64)           0           add_3[0][0]                      \n",
      "__________________________________________________________________________________________________\n",
      "batch_normalization_7 (BatchNor (None, 64)           256         activation_3[0][0]               \n",
      "__________________________________________________________________________________________________\n",
      "q_values (Dense)                (None, 1)            65          batch_normalization_7[0][0]      \n",
      "==================================================================================================\n",
      "Total params: 5,313\n",
      "Trainable params: 5,185\n",
      "Non-trainable params: 128\n",
      "__________________________________________________________________________________________________\n",
      "None\n"
     ]
    }
   ],
   "source": [
    "# Critic summary\n",
    "print(agent.critic_local.model.summary())"
   ]
  },
  {
   "cell_type": "markdown",
   "metadata": {},
   "source": [
    "**Question 3**: Using the episode rewards plot, discuss how the agent learned over time.\n",
    "\n",
    "- Was it an easy task to learn or hard?\n",
    "- Was there a gradual learning curve, or an aha moment?\n",
    "- How good was the final performance of the agent? (e.g. mean rewards over the last 10 episodes)\n",
    "\n",
    "**Answer**:\n",
    "\n",
    "Analyzing reward plot for training done on 250 episodes, it appears the copter was not able to learn how to hover. I did try a lot to teach the copter how to hover and teach myself reinforcement learning with no success. It is definitely very hard task for me to teach the copter, re-reviewed concepts and lessons multiple times with no avail.\n",
    "\n",
    "The copter seems to learn a lot around episode 184, but overall rewards function looks like random fluctuations with few peaks.\n",
    "\n",
    "Analyzing performance graphs, it seems copter was stable for first 3 episodes, then it couldn't hold its position."
   ]
  },
  {
   "cell_type": "markdown",
   "metadata": {},
   "source": [
    "**Question 4**: Briefly summarize your experience working on this project. You can use the following prompts for ideas.\n",
    "\n",
    "- What was the hardest part of the project? (e.g. getting started, plotting, specifying the task, etc.)\n",
    "- Did you find anything interesting in how the quadcopter or your agent behaved?\n",
    "\n",
    "**Answer**:\n",
    "\n",
    "The hardest part of the project was setting up suitable reward function for the agent. Though tweaking hyperparameters changed performance little, as I was using parameters close to the ones specified in DDPG research paper.\n",
    "\n",
    "Most of the time copter was not able to hold up its position, despite rewarding staying within distance and penalizing if it gets out of 2 units and penalizing any undesired movement of angular velocities and rotations.\n",
    "\n",
    "This was a tough problem, as part of this project I reviewed lot of great material and my understanding of deep reinforcement learning improved. I hope to find practical use for skills learned as part of this project in different environments, potentially using AWS DeepRacer or other Open AI gym applications in future. \n"
   ]
  },
  {
   "cell_type": "code",
   "execution_count": null,
   "metadata": {},
   "outputs": [],
   "source": []
  }
 ],
 "metadata": {
  "anaconda-cloud": {},
  "kernelspec": {
   "display_name": "Python 3",
   "language": "python",
   "name": "python3"
  },
  "language_info": {
   "codemirror_mode": {
    "name": "ipython",
    "version": 3
   },
   "file_extension": ".py",
   "mimetype": "text/x-python",
   "name": "python",
   "nbconvert_exporter": "python",
   "pygments_lexer": "ipython3",
   "version": "3.6.8"
  }
 },
 "nbformat": 4,
 "nbformat_minor": 2
}
